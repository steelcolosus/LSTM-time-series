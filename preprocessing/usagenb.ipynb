{
 "cells": [
  {
   "cell_type": "code",
   "execution_count": 151,
   "metadata": {
    "collapsed": true
   },
   "outputs": [],
   "source": [
    "import numpy as np\n",
    "import pandas as pd\n",
    "columnNames = [\"pbx_id\", \"calls\", \"minutes\", \"type\", \"year\", \"month\", \"day\"]\n",
    "dfSep = pd.read_csv(\"septUsage.csv\", names = columnNames)\n",
    "dfAgo = pd.read_csv(\"agoUsage.csv\", names = columnNames)\n",
    "dfJul = pd.read_csv(\"julUsage.csv\", names = columnNames)\n",
    "    "
   ]
  },
  {
   "cell_type": "code",
   "execution_count": 155,
   "metadata": {},
   "outputs": [
    {
     "data": {
      "text/plain": [
       "outgoing                  181172\n",
       "incoming                   50339\n",
       "forward                     4347\n",
       "originate                   2760\n",
       "voicemailexit               2079\n",
       "queue-exit                    68\n",
       "cisco-3way                    31\n",
       "default                       18\n",
       "conferencing-originate        13\n",
       "confirm-callee                 1\n",
       "Name: type, dtype: int64"
      ]
     },
     "execution_count": 155,
     "metadata": {},
     "output_type": "execute_result"
    }
   ],
   "source": [
    "dfSep['type'].value_counts()"
   ]
  },
  {
   "cell_type": "code",
   "execution_count": 156,
   "metadata": {},
   "outputs": [
    {
     "data": {
      "text/plain": [
       "outgoing                  337077\n",
       "incoming                   99695\n",
       "forward                     8573\n",
       "originate                   5483\n",
       "voicemailexit               3929\n",
       "queue-exit                   154\n",
       "cisco-3way                    50\n",
       "default                       30\n",
       "conferencing-originate        23\n",
       "v5-to-v4                       1\n",
       "confirm-callee                 1\n",
       "Name: type, dtype: int64"
      ]
     },
     "execution_count": 156,
     "metadata": {},
     "output_type": "execute_result"
    }
   ],
   "source": [
    "dfAgo['type'].value_counts()"
   ]
  },
  {
   "cell_type": "code",
   "execution_count": 157,
   "metadata": {},
   "outputs": [
    {
     "data": {
      "text/plain": [
       "9    240828\n",
       "Name: month, dtype: int64"
      ]
     },
     "execution_count": 157,
     "metadata": {},
     "output_type": "execute_result"
    }
   ],
   "source": [
    "dfSep['month'].value_counts()"
   ]
  },
  {
   "cell_type": "code",
   "execution_count": 201,
   "metadata": {},
   "outputs": [],
   "source": [
    "def calculateAndMerge():\n",
    "    dfConcat = pd.concat([dfJul, dfAgo, dfSep])\n",
    "\n",
    "    dfConcat.describe()\n",
    "\n",
    "    dfGroup = dfConcat.groupby([\"pbx_id\",\"month\",\"type\"])\n",
    "\n",
    "    gMean = dfGroup.mean(numeric_only=True).add_suffix(\"_Mean\").reset_index()\n",
    "\n",
    "    gSum = dfGroup.sum(numeric_only=True).add_suffix(\"_Sum\").reset_index()\n",
    "\n",
    "    gMax = dfGroup.max(numeric_only=True).add_suffix(\"_Max\").reset_index()\n",
    "\n",
    "    gMin = dfGroup.min(numeric_only=True).add_suffix(\"_Min\").reset_index()\n",
    "    \n",
    "    mergedDf = pd.merge(gSum, gMean ,how='inner',left_on=['pbx_id','month','type'], right_on=['pbx_id', 'month','type'])\n",
    "\n",
    "    mergedDf = pd.merge(mergedDf, gMax ,how='inner',left_on=['pbx_id','month','type'], right_on=['pbx_id', 'month','type'])\n",
    "\n",
    "    mergedDf = pd.merge(mergedDf, gMin ,how='inner',left_on=['pbx_id','month','type'], right_on=['pbx_id', 'month','type'])\n",
    "    \n",
    "    mergedDf.drop(['year_Sum', \"day_Sum\", \"year_Mean\", \"day_Mean\", \"year_Max\", \"day_Max\", \"year_Min\", \"day_Min\"], axis=1, inplace=True)\n",
    "    \n",
    "    return mergedDf.copy()\n",
    "    "
   ]
  },
  {
   "cell_type": "code",
   "execution_count": 202,
   "metadata": {},
   "outputs": [],
   "source": [
    "myData = calculateAndMerge()\n"
   ]
  },
  {
   "cell_type": "code",
   "execution_count": 208,
   "metadata": {},
   "outputs": [],
   "source": [
    "myData.to_csv('usage.csv', index=False)"
   ]
  },
  {
   "cell_type": "code",
   "execution_count": 209,
   "metadata": {
    "collapsed": true
   },
   "outputs": [],
   "source": [
    "myData = pd.read_csv('usage.csv')"
   ]
  },
  {
   "cell_type": "code",
   "execution_count": 233,
   "metadata": {},
   "outputs": [],
   "source": [
    "s =myData [ myData['pbx_id'] == \"0022298d-7115-4315-a863-d3ae0fca517e\" ]"
   ]
  },
  {
   "cell_type": "code",
   "execution_count": 234,
   "metadata": {},
   "outputs": [
    {
     "data": {
      "text/html": [
       "<div>\n",
       "<style>\n",
       "    .dataframe thead tr:only-child th {\n",
       "        text-align: right;\n",
       "    }\n",
       "\n",
       "    .dataframe thead th {\n",
       "        text-align: left;\n",
       "    }\n",
       "\n",
       "    .dataframe tbody tr th {\n",
       "        vertical-align: top;\n",
       "    }\n",
       "</style>\n",
       "<table border=\"1\" class=\"dataframe\">\n",
       "  <thead>\n",
       "    <tr style=\"text-align: right;\">\n",
       "      <th></th>\n",
       "      <th>pbx_id</th>\n",
       "      <th>month</th>\n",
       "      <th>type</th>\n",
       "      <th>calls_Sum</th>\n",
       "      <th>minutes_Sum</th>\n",
       "      <th>calls_Mean</th>\n",
       "      <th>minutes_Mean</th>\n",
       "      <th>calls_Max</th>\n",
       "      <th>minutes_Max</th>\n",
       "      <th>calls_Min</th>\n",
       "      <th>minutes_Min</th>\n",
       "    </tr>\n",
       "  </thead>\n",
       "  <tbody>\n",
       "    <tr>\n",
       "      <th>3</th>\n",
       "      <td>0022298d-7115-4315-a863-d3ae0fca517e</td>\n",
       "      <td>8</td>\n",
       "      <td>outgoing</td>\n",
       "      <td>139</td>\n",
       "      <td>1041</td>\n",
       "      <td>6.950000</td>\n",
       "      <td>52.050000</td>\n",
       "      <td>14</td>\n",
       "      <td>134</td>\n",
       "      <td>1</td>\n",
       "      <td>0</td>\n",
       "    </tr>\n",
       "    <tr>\n",
       "      <th>4</th>\n",
       "      <td>0022298d-7115-4315-a863-d3ae0fca517e</td>\n",
       "      <td>9</td>\n",
       "      <td>incoming</td>\n",
       "      <td>3</td>\n",
       "      <td>5</td>\n",
       "      <td>1.500000</td>\n",
       "      <td>2.500000</td>\n",
       "      <td>2</td>\n",
       "      <td>4</td>\n",
       "      <td>1</td>\n",
       "      <td>1</td>\n",
       "    </tr>\n",
       "    <tr>\n",
       "      <th>5</th>\n",
       "      <td>0022298d-7115-4315-a863-d3ae0fca517e</td>\n",
       "      <td>9</td>\n",
       "      <td>outgoing</td>\n",
       "      <td>49</td>\n",
       "      <td>347</td>\n",
       "      <td>5.444444</td>\n",
       "      <td>38.555556</td>\n",
       "      <td>10</td>\n",
       "      <td>114</td>\n",
       "      <td>1</td>\n",
       "      <td>4</td>\n",
       "    </tr>\n",
       "  </tbody>\n",
       "</table>\n",
       "</div>"
      ],
      "text/plain": [
       "                                 pbx_id  month      type  calls_Sum  \\\n",
       "3  0022298d-7115-4315-a863-d3ae0fca517e      8  outgoing        139   \n",
       "4  0022298d-7115-4315-a863-d3ae0fca517e      9  incoming          3   \n",
       "5  0022298d-7115-4315-a863-d3ae0fca517e      9  outgoing         49   \n",
       "\n",
       "   minutes_Sum  calls_Mean  minutes_Mean  calls_Max  minutes_Max  calls_Min  \\\n",
       "3         1041    6.950000     52.050000         14          134          1   \n",
       "4            5    1.500000      2.500000          2            4          1   \n",
       "5          347    5.444444     38.555556         10          114          1   \n",
       "\n",
       "   minutes_Min  \n",
       "3            0  \n",
       "4            1  \n",
       "5            4  "
      ]
     },
     "execution_count": 234,
     "metadata": {},
     "output_type": "execute_result"
    }
   ],
   "source": [
    "s\n"
   ]
  },
  {
   "cell_type": "code",
   "execution_count": 232,
   "metadata": {},
   "outputs": [],
   "source": [
    "b =s[['type','month']]\n"
   ]
  },
  {
   "cell_type": "code",
   "execution_count": 241,
   "metadata": {},
   "outputs": [
    {
     "data": {
      "text/html": [
       "<div>\n",
       "<style>\n",
       "    .dataframe thead tr:only-child th {\n",
       "        text-align: right;\n",
       "    }\n",
       "\n",
       "    .dataframe thead th {\n",
       "        text-align: left;\n",
       "    }\n",
       "\n",
       "    .dataframe tbody tr th {\n",
       "        vertical-align: top;\n",
       "    }\n",
       "</style>\n",
       "<table border=\"1\" class=\"dataframe\">\n",
       "  <thead>\n",
       "    <tr style=\"text-align: right;\">\n",
       "      <th></th>\n",
       "      <th>pbx_id</th>\n",
       "      <th>month</th>\n",
       "      <th>type</th>\n",
       "      <th>calls_Sum</th>\n",
       "      <th>minutes_Sum</th>\n",
       "      <th>calls_Mean</th>\n",
       "      <th>minutes_Mean</th>\n",
       "      <th>calls_Max</th>\n",
       "      <th>minutes_Max</th>\n",
       "      <th>calls_Min</th>\n",
       "      <th>minutes_Min</th>\n",
       "    </tr>\n",
       "  </thead>\n",
       "  <tbody>\n",
       "    <tr>\n",
       "      <th>4</th>\n",
       "      <td>0022298d-7115-4315-a863-d3ae0fca517e</td>\n",
       "      <td>9</td>\n",
       "      <td>incoming</td>\n",
       "      <td>3</td>\n",
       "      <td>5</td>\n",
       "      <td>1.500000</td>\n",
       "      <td>2.500000</td>\n",
       "      <td>2</td>\n",
       "      <td>4</td>\n",
       "      <td>1</td>\n",
       "      <td>1</td>\n",
       "    </tr>\n",
       "    <tr>\n",
       "      <th>5</th>\n",
       "      <td>0022298d-7115-4315-a863-d3ae0fca517e</td>\n",
       "      <td>9</td>\n",
       "      <td>outgoing</td>\n",
       "      <td>49</td>\n",
       "      <td>347</td>\n",
       "      <td>5.444444</td>\n",
       "      <td>38.555556</td>\n",
       "      <td>10</td>\n",
       "      <td>114</td>\n",
       "      <td>1</td>\n",
       "      <td>4</td>\n",
       "    </tr>\n",
       "  </tbody>\n",
       "</table>\n",
       "</div>"
      ],
      "text/plain": [
       "                                 pbx_id  month      type  calls_Sum  \\\n",
       "4  0022298d-7115-4315-a863-d3ae0fca517e      9  incoming          3   \n",
       "5  0022298d-7115-4315-a863-d3ae0fca517e      9  outgoing         49   \n",
       "\n",
       "   minutes_Sum  calls_Mean  minutes_Mean  calls_Max  minutes_Max  calls_Min  \\\n",
       "4            5    1.500000      2.500000          2            4          1   \n",
       "5          347    5.444444     38.555556         10          114          1   \n",
       "\n",
       "   minutes_Min  \n",
       "4            1  \n",
       "5            4  "
      ]
     },
     "execution_count": 241,
     "metadata": {},
     "output_type": "execute_result"
    }
   ],
   "source": [
    "s[s['month'].apply(lambda x: isInArray(x))]"
   ]
  },
  {
   "cell_type": "code",
   "execution_count": 239,
   "metadata": {},
   "outputs": [],
   "source": [
    "def isInArray(x):\n",
    "    return x in [1,2,9]"
   ]
  },
  {
   "cell_type": "code",
   "execution_count": 244,
   "metadata": {},
   "outputs": [
    {
     "data": {
      "text/html": [
       "<div>\n",
       "<style>\n",
       "    .dataframe thead tr:only-child th {\n",
       "        text-align: right;\n",
       "    }\n",
       "\n",
       "    .dataframe thead th {\n",
       "        text-align: left;\n",
       "    }\n",
       "\n",
       "    .dataframe tbody tr th {\n",
       "        vertical-align: top;\n",
       "    }\n",
       "</style>\n",
       "<table border=\"1\" class=\"dataframe\">\n",
       "  <thead>\n",
       "    <tr style=\"text-align: right;\">\n",
       "      <th></th>\n",
       "      <th>pbx_id</th>\n",
       "      <th>month</th>\n",
       "      <th>type</th>\n",
       "      <th>calls_Sum</th>\n",
       "      <th>minutes_Sum</th>\n",
       "    </tr>\n",
       "  </thead>\n",
       "  <tbody>\n",
       "    <tr>\n",
       "      <th>3</th>\n",
       "      <td>0022298d-7115-4315-a863-d3ae0fca517e</td>\n",
       "      <td>8</td>\n",
       "      <td>outgoing</td>\n",
       "      <td>139</td>\n",
       "      <td>1041</td>\n",
       "    </tr>\n",
       "    <tr>\n",
       "      <th>4</th>\n",
       "      <td>0022298d-7115-4315-a863-d3ae0fca517e</td>\n",
       "      <td>9</td>\n",
       "      <td>incoming</td>\n",
       "      <td>3</td>\n",
       "      <td>5</td>\n",
       "    </tr>\n",
       "    <tr>\n",
       "      <th>5</th>\n",
       "      <td>0022298d-7115-4315-a863-d3ae0fca517e</td>\n",
       "      <td>9</td>\n",
       "      <td>outgoing</td>\n",
       "      <td>49</td>\n",
       "      <td>347</td>\n",
       "    </tr>\n",
       "  </tbody>\n",
       "</table>\n",
       "</div>"
      ],
      "text/plain": [
       "                                 pbx_id  month      type  calls_Sum  \\\n",
       "3  0022298d-7115-4315-a863-d3ae0fca517e      8  outgoing        139   \n",
       "4  0022298d-7115-4315-a863-d3ae0fca517e      9  incoming          3   \n",
       "5  0022298d-7115-4315-a863-d3ae0fca517e      9  outgoing         49   \n",
       "\n",
       "   minutes_Sum  \n",
       "3         1041  \n",
       "4            5  \n",
       "5          347  "
      ]
     },
     "execution_count": 244,
     "metadata": {},
     "output_type": "execute_result"
    }
   ],
   "source": [
    "x = ['pbx_id', 'month', 'type', 'calls_Sum', 'minutes_Sum']\n",
    "s[x]"
   ]
  },
  {
   "cell_type": "code",
   "execution_count": null,
   "metadata": {
    "collapsed": true
   },
   "outputs": [],
   "source": []
  }
 ],
 "metadata": {
  "kernelspec": {
   "display_name": "Python 3",
   "language": "python",
   "name": "python3"
  },
  "language_info": {
   "codemirror_mode": {
    "name": "ipython",
    "version": 3
   },
   "file_extension": ".py",
   "mimetype": "text/x-python",
   "name": "python",
   "nbconvert_exporter": "python",
   "pygments_lexer": "ipython3",
   "version": "3.6.1"
  }
 },
 "nbformat": 4,
 "nbformat_minor": 2
}
