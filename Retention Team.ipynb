{
 "cells": [
  {
   "cell_type": "markdown",
   "metadata": {
    "deletable": true,
    "editable": true
   },
   "source": [
    "## Retention Team - Hackathon project"
   ]
  },
  {
   "cell_type": "code",
   "execution_count": 1,
   "metadata": {
    "collapsed": true,
    "deletable": true,
    "editable": true
   },
   "outputs": [],
   "source": [
    "%matplotlib inline\n",
    "%config InlineBackend.figure_format = 'retina'\n",
    "\n",
    "import sys\n",
    "import numpy as np\n",
    "import pandas as pd\n",
    "import matplotlib.pyplot as plt"
   ]
  },
  {
   "cell_type": "markdown",
   "metadata": {
    "deletable": true,
    "editable": true
   },
   "source": [
    "#### Load and prepare data"
   ]
  },
  {
   "cell_type": "code",
   "execution_count": 2,
   "metadata": {
    "collapsed": false,
    "deletable": true,
    "editable": true
   },
   "outputs": [],
   "source": [
    "data_path = 'data/customers.csv'\n",
    "data_path_final = 'data/customers-final-2.csv'\n",
    "\n",
    "customers = pd.read_csv(data_path)\n",
    "customers_final = pd.read_csv(data_path_final)\n",
    "\n",
    "\n",
    "fields_to_drop = ['Unnamed: 0','MRR', 'Seats','days']\n",
    "data = customers_final.drop(fields_to_drop, axis=1)"
   ]
  },
  {
   "cell_type": "code",
   "execution_count": 3,
   "metadata": {
    "collapsed": false,
    "deletable": true,
    "editable": true
   },
   "outputs": [
    {
     "data": {
      "text/html": [
       "<div>\n",
       "<table border=\"1\" class=\"dataframe\">\n",
       "  <thead>\n",
       "    <tr style=\"text-align: right;\">\n",
       "      <th></th>\n",
       "      <th>status</th>\n",
       "      <th>proc_102</th>\n",
       "      <th>proc_201</th>\n",
       "      <th>proc_202</th>\n",
       "      <th>proc_203</th>\n",
       "      <th>proc_204</th>\n",
       "      <th>proc_301</th>\n",
       "      <th>proc_401</th>\n",
       "      <th>proc_402</th>\n",
       "      <th>proc_403</th>\n",
       "      <th>...</th>\n",
       "      <th>Month_5</th>\n",
       "      <th>Month_6</th>\n",
       "      <th>Month_7</th>\n",
       "      <th>Month_8</th>\n",
       "      <th>Month_9</th>\n",
       "      <th>Month_10</th>\n",
       "      <th>Month_11</th>\n",
       "      <th>time_delta</th>\n",
       "      <th>Tickets</th>\n",
       "      <th>csat</th>\n",
       "    </tr>\n",
       "  </thead>\n",
       "  <tbody>\n",
       "    <tr>\n",
       "      <th>0</th>\n",
       "      <td>1</td>\n",
       "      <td>0</td>\n",
       "      <td>1</td>\n",
       "      <td>0</td>\n",
       "      <td>0</td>\n",
       "      <td>0</td>\n",
       "      <td>0</td>\n",
       "      <td>0</td>\n",
       "      <td>0</td>\n",
       "      <td>0</td>\n",
       "      <td>...</td>\n",
       "      <td>0</td>\n",
       "      <td>1</td>\n",
       "      <td>0</td>\n",
       "      <td>0</td>\n",
       "      <td>0</td>\n",
       "      <td>0</td>\n",
       "      <td>0</td>\n",
       "      <td>0.005954</td>\n",
       "      <td>2.5</td>\n",
       "      <td>9.0</td>\n",
       "    </tr>\n",
       "    <tr>\n",
       "      <th>1</th>\n",
       "      <td>1</td>\n",
       "      <td>0</td>\n",
       "      <td>0</td>\n",
       "      <td>1</td>\n",
       "      <td>0</td>\n",
       "      <td>0</td>\n",
       "      <td>0</td>\n",
       "      <td>0</td>\n",
       "      <td>0</td>\n",
       "      <td>0</td>\n",
       "      <td>...</td>\n",
       "      <td>0</td>\n",
       "      <td>1</td>\n",
       "      <td>0</td>\n",
       "      <td>0</td>\n",
       "      <td>0</td>\n",
       "      <td>0</td>\n",
       "      <td>0</td>\n",
       "      <td>28.638313</td>\n",
       "      <td>2.5</td>\n",
       "      <td>9.0</td>\n",
       "    </tr>\n",
       "    <tr>\n",
       "      <th>2</th>\n",
       "      <td>1</td>\n",
       "      <td>0</td>\n",
       "      <td>0</td>\n",
       "      <td>0</td>\n",
       "      <td>1</td>\n",
       "      <td>0</td>\n",
       "      <td>0</td>\n",
       "      <td>0</td>\n",
       "      <td>0</td>\n",
       "      <td>0</td>\n",
       "      <td>...</td>\n",
       "      <td>0</td>\n",
       "      <td>1</td>\n",
       "      <td>0</td>\n",
       "      <td>0</td>\n",
       "      <td>0</td>\n",
       "      <td>0</td>\n",
       "      <td>0</td>\n",
       "      <td>0.011392</td>\n",
       "      <td>2.5</td>\n",
       "      <td>9.0</td>\n",
       "    </tr>\n",
       "    <tr>\n",
       "      <th>3</th>\n",
       "      <td>0</td>\n",
       "      <td>0</td>\n",
       "      <td>0</td>\n",
       "      <td>0</td>\n",
       "      <td>0</td>\n",
       "      <td>1</td>\n",
       "      <td>0</td>\n",
       "      <td>0</td>\n",
       "      <td>0</td>\n",
       "      <td>0</td>\n",
       "      <td>...</td>\n",
       "      <td>0</td>\n",
       "      <td>1</td>\n",
       "      <td>0</td>\n",
       "      <td>0</td>\n",
       "      <td>0</td>\n",
       "      <td>0</td>\n",
       "      <td>0</td>\n",
       "      <td>0.002213</td>\n",
       "      <td>45.0</td>\n",
       "      <td>5.0</td>\n",
       "    </tr>\n",
       "    <tr>\n",
       "      <th>4</th>\n",
       "      <td>0</td>\n",
       "      <td>0</td>\n",
       "      <td>0</td>\n",
       "      <td>0</td>\n",
       "      <td>0</td>\n",
       "      <td>1</td>\n",
       "      <td>0</td>\n",
       "      <td>0</td>\n",
       "      <td>0</td>\n",
       "      <td>0</td>\n",
       "      <td>...</td>\n",
       "      <td>0</td>\n",
       "      <td>0</td>\n",
       "      <td>0</td>\n",
       "      <td>0</td>\n",
       "      <td>1</td>\n",
       "      <td>0</td>\n",
       "      <td>0</td>\n",
       "      <td>0.001069</td>\n",
       "      <td>45.0</td>\n",
       "      <td>5.0</td>\n",
       "    </tr>\n",
       "  </tbody>\n",
       "</table>\n",
       "<p>5 rows × 33 columns</p>\n",
       "</div>"
      ],
      "text/plain": [
       "   status  proc_102  proc_201  proc_202  proc_203  proc_204  proc_301  \\\n",
       "0       1         0         1         0         0         0         0   \n",
       "1       1         0         0         1         0         0         0   \n",
       "2       1         0         0         0         1         0         0   \n",
       "3       0         0         0         0         0         1         0   \n",
       "4       0         0         0         0         0         1         0   \n",
       "\n",
       "   proc_401  proc_402  proc_403  ...   Month_5  Month_6  Month_7  Month_8  \\\n",
       "0         0         0         0  ...         0        1        0        0   \n",
       "1         0         0         0  ...         0        1        0        0   \n",
       "2         0         0         0  ...         0        1        0        0   \n",
       "3         0         0         0  ...         0        1        0        0   \n",
       "4         0         0         0  ...         0        0        0        0   \n",
       "\n",
       "   Month_9  Month_10  Month_11  time_delta  Tickets  csat  \n",
       "0        0         0         0    0.005954      2.5   9.0  \n",
       "1        0         0         0   28.638313      2.5   9.0  \n",
       "2        0         0         0    0.011392      2.5   9.0  \n",
       "3        0         0         0    0.002213     45.0   5.0  \n",
       "4        1         0         0    0.001069     45.0   5.0  \n",
       "\n",
       "[5 rows x 33 columns]"
      ]
     },
     "execution_count": 3,
     "metadata": {},
     "output_type": "execute_result"
    }
   ],
   "source": [
    "data.head()"
   ]
  },
  {
   "cell_type": "markdown",
   "metadata": {
    "deletable": true,
    "editable": true
   },
   "source": [
    "#### Checking data"
   ]
  },
  {
   "cell_type": "code",
   "execution_count": 4,
   "metadata": {
    "collapsed": false,
    "deletable": true,
    "editable": true
   },
   "outputs": [
    {
     "data": {
      "text/plain": [
       "(75282, 33)"
      ]
     },
     "execution_count": 4,
     "metadata": {},
     "output_type": "execute_result"
    }
   ],
   "source": [
    "data.shape"
   ]
  },
  {
   "cell_type": "code",
   "execution_count": 5,
   "metadata": {
    "collapsed": false,
    "deletable": true,
    "editable": true
   },
   "outputs": [
    {
     "name": "stdout",
     "output_type": "stream",
     "text": [
      "[  0.00000000e+00   0.00000000e+00   0.00000000e+00   0.00000000e+00\n",
      "   0.00000000e+00   1.00000000e+00   0.00000000e+00   0.00000000e+00\n",
      "   0.00000000e+00   0.00000000e+00   0.00000000e+00   0.00000000e+00\n",
      "   1.00000000e+00   0.00000000e+00   0.00000000e+00   0.00000000e+00\n",
      "   0.00000000e+00   0.00000000e+00   0.00000000e+00   0.00000000e+00\n",
      "   0.00000000e+00   0.00000000e+00   0.00000000e+00   0.00000000e+00\n",
      "   1.00000000e+00   0.00000000e+00   0.00000000e+00   0.00000000e+00\n",
      "   0.00000000e+00   0.00000000e+00   7.41944444e-03   4.50000000e+01\n",
      "   5.00000000e+00]\n"
     ]
    }
   ],
   "source": [
    "last_member = data.values[-1]\n",
    "print(last_member)"
   ]
  },
  {
   "cell_type": "markdown",
   "metadata": {
    "deletable": true,
    "editable": true
   },
   "source": [
    "### Preparing Data\n"
   ]
  },
  {
   "cell_type": "code",
   "execution_count": 6,
   "metadata": {
    "collapsed": false,
    "deletable": true,
    "editable": true
   },
   "outputs": [
    {
     "data": {
      "text/html": [
       "<div>\n",
       "<table border=\"1\" class=\"dataframe\">\n",
       "  <thead>\n",
       "    <tr style=\"text-align: right;\">\n",
       "      <th></th>\n",
       "      <th>status</th>\n",
       "      <th>proc_102</th>\n",
       "      <th>proc_201</th>\n",
       "      <th>proc_202</th>\n",
       "      <th>proc_203</th>\n",
       "      <th>proc_204</th>\n",
       "      <th>proc_301</th>\n",
       "      <th>proc_401</th>\n",
       "      <th>proc_402</th>\n",
       "      <th>proc_403</th>\n",
       "      <th>...</th>\n",
       "      <th>Month_5</th>\n",
       "      <th>Month_6</th>\n",
       "      <th>Month_7</th>\n",
       "      <th>Month_8</th>\n",
       "      <th>Month_9</th>\n",
       "      <th>Month_10</th>\n",
       "      <th>Month_11</th>\n",
       "      <th>time_delta</th>\n",
       "      <th>Tickets</th>\n",
       "      <th>csat</th>\n",
       "    </tr>\n",
       "  </thead>\n",
       "  <tbody>\n",
       "    <tr>\n",
       "      <th>0</th>\n",
       "      <td>1</td>\n",
       "      <td>0</td>\n",
       "      <td>1</td>\n",
       "      <td>0</td>\n",
       "      <td>0</td>\n",
       "      <td>0</td>\n",
       "      <td>0</td>\n",
       "      <td>0</td>\n",
       "      <td>0</td>\n",
       "      <td>0</td>\n",
       "      <td>...</td>\n",
       "      <td>0</td>\n",
       "      <td>1</td>\n",
       "      <td>0</td>\n",
       "      <td>0</td>\n",
       "      <td>0</td>\n",
       "      <td>0</td>\n",
       "      <td>0</td>\n",
       "      <td>0.005954</td>\n",
       "      <td>2.5</td>\n",
       "      <td>9.0</td>\n",
       "    </tr>\n",
       "    <tr>\n",
       "      <th>1</th>\n",
       "      <td>1</td>\n",
       "      <td>0</td>\n",
       "      <td>0</td>\n",
       "      <td>1</td>\n",
       "      <td>0</td>\n",
       "      <td>0</td>\n",
       "      <td>0</td>\n",
       "      <td>0</td>\n",
       "      <td>0</td>\n",
       "      <td>0</td>\n",
       "      <td>...</td>\n",
       "      <td>0</td>\n",
       "      <td>1</td>\n",
       "      <td>0</td>\n",
       "      <td>0</td>\n",
       "      <td>0</td>\n",
       "      <td>0</td>\n",
       "      <td>0</td>\n",
       "      <td>28.638313</td>\n",
       "      <td>2.5</td>\n",
       "      <td>9.0</td>\n",
       "    </tr>\n",
       "    <tr>\n",
       "      <th>2</th>\n",
       "      <td>1</td>\n",
       "      <td>0</td>\n",
       "      <td>0</td>\n",
       "      <td>0</td>\n",
       "      <td>1</td>\n",
       "      <td>0</td>\n",
       "      <td>0</td>\n",
       "      <td>0</td>\n",
       "      <td>0</td>\n",
       "      <td>0</td>\n",
       "      <td>...</td>\n",
       "      <td>0</td>\n",
       "      <td>1</td>\n",
       "      <td>0</td>\n",
       "      <td>0</td>\n",
       "      <td>0</td>\n",
       "      <td>0</td>\n",
       "      <td>0</td>\n",
       "      <td>0.011392</td>\n",
       "      <td>2.5</td>\n",
       "      <td>9.0</td>\n",
       "    </tr>\n",
       "    <tr>\n",
       "      <th>3</th>\n",
       "      <td>0</td>\n",
       "      <td>0</td>\n",
       "      <td>0</td>\n",
       "      <td>0</td>\n",
       "      <td>0</td>\n",
       "      <td>1</td>\n",
       "      <td>0</td>\n",
       "      <td>0</td>\n",
       "      <td>0</td>\n",
       "      <td>0</td>\n",
       "      <td>...</td>\n",
       "      <td>0</td>\n",
       "      <td>1</td>\n",
       "      <td>0</td>\n",
       "      <td>0</td>\n",
       "      <td>0</td>\n",
       "      <td>0</td>\n",
       "      <td>0</td>\n",
       "      <td>0.002213</td>\n",
       "      <td>45.0</td>\n",
       "      <td>5.0</td>\n",
       "    </tr>\n",
       "    <tr>\n",
       "      <th>4</th>\n",
       "      <td>0</td>\n",
       "      <td>0</td>\n",
       "      <td>0</td>\n",
       "      <td>0</td>\n",
       "      <td>0</td>\n",
       "      <td>1</td>\n",
       "      <td>0</td>\n",
       "      <td>0</td>\n",
       "      <td>0</td>\n",
       "      <td>0</td>\n",
       "      <td>...</td>\n",
       "      <td>0</td>\n",
       "      <td>0</td>\n",
       "      <td>0</td>\n",
       "      <td>0</td>\n",
       "      <td>1</td>\n",
       "      <td>0</td>\n",
       "      <td>0</td>\n",
       "      <td>0.001069</td>\n",
       "      <td>45.0</td>\n",
       "      <td>5.0</td>\n",
       "    </tr>\n",
       "  </tbody>\n",
       "</table>\n",
       "<p>5 rows × 33 columns</p>\n",
       "</div>"
      ],
      "text/plain": [
       "   status  proc_102  proc_201  proc_202  proc_203  proc_204  proc_301  \\\n",
       "0       1         0         1         0         0         0         0   \n",
       "1       1         0         0         1         0         0         0   \n",
       "2       1         0         0         0         1         0         0   \n",
       "3       0         0         0         0         0         1         0   \n",
       "4       0         0         0         0         0         1         0   \n",
       "\n",
       "   proc_401  proc_402  proc_403  ...   Month_5  Month_6  Month_7  Month_8  \\\n",
       "0         0         0         0  ...         0        1        0        0   \n",
       "1         0         0         0  ...         0        1        0        0   \n",
       "2         0         0         0  ...         0        1        0        0   \n",
       "3         0         0         0  ...         0        1        0        0   \n",
       "4         0         0         0  ...         0        0        0        0   \n",
       "\n",
       "   Month_9  Month_10  Month_11  time_delta  Tickets  csat  \n",
       "0        0         0         0    0.005954      2.5   9.0  \n",
       "1        0         0         0   28.638313      2.5   9.0  \n",
       "2        0         0         0    0.011392      2.5   9.0  \n",
       "3        0         0         0    0.002213     45.0   5.0  \n",
       "4        1         0         0    0.001069     45.0   5.0  \n",
       "\n",
       "[5 rows x 33 columns]"
      ]
     },
     "execution_count": 6,
     "metadata": {},
     "output_type": "execute_result"
    }
   ],
   "source": [
    "data.head()"
   ]
  },
  {
   "cell_type": "markdown",
   "metadata": {
    "deletable": true,
    "editable": true
   },
   "source": [
    "#### Scaling variables\n"
   ]
  },
  {
   "cell_type": "code",
   "execution_count": 7,
   "metadata": {
    "collapsed": true,
    "deletable": true,
    "editable": true
   },
   "outputs": [],
   "source": [
    "quant_features = ['time_delta','Tickets','csat']\n",
    "\n",
    "scaled_features = {}\n",
    "for each in quant_features:\n",
    "    mean, std = data[each].mean(), data[each].std()\n",
    "    scaled_features[each] = [mean, std]\n",
    "    data.loc[:, each] = (data[each] - mean)/std"
   ]
  },
  {
   "cell_type": "code",
   "execution_count": 8,
   "metadata": {
    "collapsed": false,
    "deletable": true,
    "editable": true
   },
   "outputs": [
    {
     "name": "stdout",
     "output_type": "stream",
     "text": [
      "{'csat': [8.2457559575994264, 1.6429718999660223], 'Tickets': [9.4470059243909574, 15.453758244605879], 'time_delta': [61.481749190510335, 488.89662542469227]}\n"
     ]
    }
   ],
   "source": [
    "print(scaled_features)"
   ]
  },
  {
   "cell_type": "code",
   "execution_count": 9,
   "metadata": {
    "collapsed": false,
    "deletable": true,
    "editable": true
   },
   "outputs": [
    {
     "data": {
      "text/html": [
       "<div>\n",
       "<table border=\"1\" class=\"dataframe\">\n",
       "  <thead>\n",
       "    <tr style=\"text-align: right;\">\n",
       "      <th></th>\n",
       "      <th>status</th>\n",
       "      <th>proc_102</th>\n",
       "      <th>proc_201</th>\n",
       "      <th>proc_202</th>\n",
       "      <th>proc_203</th>\n",
       "      <th>proc_204</th>\n",
       "      <th>proc_301</th>\n",
       "      <th>proc_401</th>\n",
       "      <th>proc_402</th>\n",
       "      <th>proc_403</th>\n",
       "      <th>...</th>\n",
       "      <th>Month_5</th>\n",
       "      <th>Month_6</th>\n",
       "      <th>Month_7</th>\n",
       "      <th>Month_8</th>\n",
       "      <th>Month_9</th>\n",
       "      <th>Month_10</th>\n",
       "      <th>Month_11</th>\n",
       "      <th>time_delta</th>\n",
       "      <th>Tickets</th>\n",
       "      <th>csat</th>\n",
       "    </tr>\n",
       "  </thead>\n",
       "  <tbody>\n",
       "    <tr>\n",
       "      <th>0</th>\n",
       "      <td>1</td>\n",
       "      <td>0</td>\n",
       "      <td>1</td>\n",
       "      <td>0</td>\n",
       "      <td>0</td>\n",
       "      <td>0</td>\n",
       "      <td>0</td>\n",
       "      <td>0</td>\n",
       "      <td>0</td>\n",
       "      <td>0</td>\n",
       "      <td>...</td>\n",
       "      <td>0</td>\n",
       "      <td>1</td>\n",
       "      <td>0</td>\n",
       "      <td>0</td>\n",
       "      <td>0</td>\n",
       "      <td>0</td>\n",
       "      <td>0</td>\n",
       "      <td>-0.125744</td>\n",
       "      <td>-0.449535</td>\n",
       "      <td>0.459073</td>\n",
       "    </tr>\n",
       "    <tr>\n",
       "      <th>1</th>\n",
       "      <td>1</td>\n",
       "      <td>0</td>\n",
       "      <td>0</td>\n",
       "      <td>1</td>\n",
       "      <td>0</td>\n",
       "      <td>0</td>\n",
       "      <td>0</td>\n",
       "      <td>0</td>\n",
       "      <td>0</td>\n",
       "      <td>0</td>\n",
       "      <td>...</td>\n",
       "      <td>0</td>\n",
       "      <td>1</td>\n",
       "      <td>0</td>\n",
       "      <td>0</td>\n",
       "      <td>0</td>\n",
       "      <td>0</td>\n",
       "      <td>0</td>\n",
       "      <td>-0.067179</td>\n",
       "      <td>-0.449535</td>\n",
       "      <td>0.459073</td>\n",
       "    </tr>\n",
       "    <tr>\n",
       "      <th>2</th>\n",
       "      <td>1</td>\n",
       "      <td>0</td>\n",
       "      <td>0</td>\n",
       "      <td>0</td>\n",
       "      <td>1</td>\n",
       "      <td>0</td>\n",
       "      <td>0</td>\n",
       "      <td>0</td>\n",
       "      <td>0</td>\n",
       "      <td>0</td>\n",
       "      <td>...</td>\n",
       "      <td>0</td>\n",
       "      <td>1</td>\n",
       "      <td>0</td>\n",
       "      <td>0</td>\n",
       "      <td>0</td>\n",
       "      <td>0</td>\n",
       "      <td>0</td>\n",
       "      <td>-0.125733</td>\n",
       "      <td>-0.449535</td>\n",
       "      <td>0.459073</td>\n",
       "    </tr>\n",
       "    <tr>\n",
       "      <th>3</th>\n",
       "      <td>0</td>\n",
       "      <td>0</td>\n",
       "      <td>0</td>\n",
       "      <td>0</td>\n",
       "      <td>0</td>\n",
       "      <td>1</td>\n",
       "      <td>0</td>\n",
       "      <td>0</td>\n",
       "      <td>0</td>\n",
       "      <td>0</td>\n",
       "      <td>...</td>\n",
       "      <td>0</td>\n",
       "      <td>1</td>\n",
       "      <td>0</td>\n",
       "      <td>0</td>\n",
       "      <td>0</td>\n",
       "      <td>0</td>\n",
       "      <td>0</td>\n",
       "      <td>-0.125752</td>\n",
       "      <td>2.300605</td>\n",
       "      <td>-1.975540</td>\n",
       "    </tr>\n",
       "    <tr>\n",
       "      <th>4</th>\n",
       "      <td>0</td>\n",
       "      <td>0</td>\n",
       "      <td>0</td>\n",
       "      <td>0</td>\n",
       "      <td>0</td>\n",
       "      <td>1</td>\n",
       "      <td>0</td>\n",
       "      <td>0</td>\n",
       "      <td>0</td>\n",
       "      <td>0</td>\n",
       "      <td>...</td>\n",
       "      <td>0</td>\n",
       "      <td>0</td>\n",
       "      <td>0</td>\n",
       "      <td>0</td>\n",
       "      <td>1</td>\n",
       "      <td>0</td>\n",
       "      <td>0</td>\n",
       "      <td>-0.125754</td>\n",
       "      <td>2.300605</td>\n",
       "      <td>-1.975540</td>\n",
       "    </tr>\n",
       "  </tbody>\n",
       "</table>\n",
       "<p>5 rows × 33 columns</p>\n",
       "</div>"
      ],
      "text/plain": [
       "   status  proc_102  proc_201  proc_202  proc_203  proc_204  proc_301  \\\n",
       "0       1         0         1         0         0         0         0   \n",
       "1       1         0         0         1         0         0         0   \n",
       "2       1         0         0         0         1         0         0   \n",
       "3       0         0         0         0         0         1         0   \n",
       "4       0         0         0         0         0         1         0   \n",
       "\n",
       "   proc_401  proc_402  proc_403    ...     Month_5  Month_6  Month_7  Month_8  \\\n",
       "0         0         0         0    ...           0        1        0        0   \n",
       "1         0         0         0    ...           0        1        0        0   \n",
       "2         0         0         0    ...           0        1        0        0   \n",
       "3         0         0         0    ...           0        1        0        0   \n",
       "4         0         0         0    ...           0        0        0        0   \n",
       "\n",
       "   Month_9  Month_10  Month_11  time_delta   Tickets      csat  \n",
       "0        0         0         0   -0.125744 -0.449535  0.459073  \n",
       "1        0         0         0   -0.067179 -0.449535  0.459073  \n",
       "2        0         0         0   -0.125733 -0.449535  0.459073  \n",
       "3        0         0         0   -0.125752  2.300605 -1.975540  \n",
       "4        1         0         0   -0.125754  2.300605 -1.975540  \n",
       "\n",
       "[5 rows x 33 columns]"
      ]
     },
     "execution_count": 9,
     "metadata": {},
     "output_type": "execute_result"
    }
   ],
   "source": [
    "data.head()"
   ]
  },
  {
   "cell_type": "markdown",
   "metadata": {
    "deletable": true,
    "editable": true
   },
   "source": [
    "### Splitting the data into training, testing and validation sets"
   ]
  },
  {
   "cell_type": "code",
   "execution_count": 10,
   "metadata": {
    "collapsed": true,
    "deletable": true,
    "editable": true
   },
   "outputs": [],
   "source": [
    "def split_data(data, val_size=0.2, test_size=0.2):\n",
    "    ntest = int(round(len(data)* (1 - test_size)))\n",
    "    nval = int(round(len(data.iloc[:ntest])* (1-val_size)))\n",
    "    \n",
    "    df_train, df_val, df_test = data.iloc[:nval], data.iloc[nval:ntest],data.iloc[ntest:]\n",
    "    \n",
    "    return df_train, df_val, df_test"
   ]
  },
  {
   "cell_type": "code",
   "execution_count": 11,
   "metadata": {
    "collapsed": true,
    "deletable": true,
    "editable": true
   },
   "outputs": [],
   "source": [
    "train_data, val_data, test_data = split_data(data,0.1,0.1)\n",
    "\n",
    "target_fields = ['status']\n",
    "\n",
    "\n",
    "train_features, train_targets = train_data.drop(target_fields, axis=1), train_data[target_fields]\n",
    "\n",
    "test_features, test_targets = test_data.drop(target_fields, axis=1), test_data[target_fields]\n",
    "test_features, test_targets = test_features[-21*24:], test_targets[-21*24:]\n",
    "val_features, val_targets = val_data.drop(target_fields, axis=1), val_data[target_fields]"
   ]
  },
  {
   "cell_type": "code",
   "execution_count": 12,
   "metadata": {
    "collapsed": false,
    "deletable": true,
    "editable": true
   },
   "outputs": [
    {
     "data": {
      "text/html": [
       "<div>\n",
       "<table border=\"1\" class=\"dataframe\">\n",
       "  <thead>\n",
       "    <tr style=\"text-align: right;\">\n",
       "      <th></th>\n",
       "      <th>status</th>\n",
       "    </tr>\n",
       "  </thead>\n",
       "  <tbody>\n",
       "    <tr>\n",
       "      <th>0</th>\n",
       "      <td>1</td>\n",
       "    </tr>\n",
       "    <tr>\n",
       "      <th>1</th>\n",
       "      <td>1</td>\n",
       "    </tr>\n",
       "    <tr>\n",
       "      <th>2</th>\n",
       "      <td>1</td>\n",
       "    </tr>\n",
       "    <tr>\n",
       "      <th>3</th>\n",
       "      <td>0</td>\n",
       "    </tr>\n",
       "    <tr>\n",
       "      <th>4</th>\n",
       "      <td>0</td>\n",
       "    </tr>\n",
       "  </tbody>\n",
       "</table>\n",
       "</div>"
      ],
      "text/plain": [
       "   status\n",
       "0       1\n",
       "1       1\n",
       "2       1\n",
       "3       0\n",
       "4       0"
      ]
     },
     "execution_count": 12,
     "metadata": {},
     "output_type": "execute_result"
    }
   ],
   "source": [
    "train_targets.head()"
   ]
  },
  {
   "cell_type": "code",
   "execution_count": 13,
   "metadata": {
    "collapsed": false,
    "deletable": true,
    "editable": true
   },
   "outputs": [
    {
     "name": "stdout",
     "output_type": "stream",
     "text": [
      "(60979, 32)\n",
      "(6775, 32)\n",
      "(504, 32)\n"
     ]
    }
   ],
   "source": [
    "print(train_features.shape)\n",
    "print(val_features.shape)\n",
    "print(test_features.shape)"
   ]
  },
  {
   "cell_type": "markdown",
   "metadata": {
    "deletable": true,
    "editable": true
   },
   "source": [
    "### Build batches"
   ]
  },
  {
   "cell_type": "code",
   "execution_count": 14,
   "metadata": {
    "collapsed": true,
    "deletable": true,
    "editable": true
   },
   "outputs": [],
   "source": [
    "# each element of x is an array with 32 features and each element of y is an array with 1 targets\n",
    "def get_batches(x, y, n_seqs, n_steps):\n",
    "    '''Create a generator that returns batches of size\n",
    "       n_seqs x n_steps from arr.\n",
    "       \n",
    "       Arguments\n",
    "       ---------\n",
    "       array x and array y: Array you want to make batches from\n",
    "       n_seqs: Batch size, the number of sequences per batch\n",
    "       n_steps: Number of sequence steps per batch\n",
    "    '''\n",
    "    # Get the number of hours per batch and number of batches we can make\n",
    "    hours_per_batch = n_seqs * n_steps\n",
    "    n_batches = len(x)//hours_per_batch\n",
    "    \n",
    "    # convert from Pandas to np remove the index column\n",
    "    x = x.reset_index().values[:,1:]\n",
    "    y = y.reset_index().values[:,1:]\n",
    "\n",
    "    # make only full batches    \n",
    "    x, y = x[:n_batches*hours_per_batch], y[:n_batches*hours_per_batch]\n",
    "\n",
    "    # TODO: this needs to be optmized\n",
    "    # x_temp will be ( n rows x n_steps wide) where each element is an array of 32 features\n",
    "    # this first look splits the x with n rows and n_steps wide \n",
    "    x_temp = []\n",
    "    y_temp = []\n",
    "    for st in range(0, n_batches*hours_per_batch, n_steps ):\n",
    "        x_temp.append( x[st:st+n_steps]  )\n",
    "        y_temp.append( y[st:st+n_steps]  )\n",
    "\n",
    "    x = np.asarray(x_temp )    \n",
    "    y = np.asarray(y_temp )    \n",
    "\n",
    "    # this splits x in n_seqs rows so the return is a batch of n_seqs rows with n_steps wide \n",
    "    # where each element is an array of 32 features (one action from our data)\n",
    "    for sq in range(0,(n_batches*hours_per_batch)//n_steps, n_seqs ):\n",
    "        yield x[sq:sq+n_seqs,:,:], y[sq:sq+n_seqs,:,:]"
   ]
  },
  {
   "cell_type": "markdown",
   "metadata": {
    "deletable": true,
    "editable": true
   },
   "source": [
    "### Test batches"
   ]
  },
  {
   "cell_type": "code",
   "execution_count": 303,
   "metadata": {
    "collapsed": false,
    "deletable": true,
    "editable": true
   },
   "outputs": [
    {
     "name": "stdout",
     "output_type": "stream",
     "text": [
      "(60979, 32)\n",
      "(1, 2, 32)\n",
      "(1, 2, 1)\n",
      "[[[ 0.          1.          0.          0.          0.          0.          0.\n",
      "    0.          0.          0.          0.          0.          0.          1.\n",
      "    0.          0.          0.          0.          0.          0.          0.\n",
      "    0.          0.          1.          0.          0.          0.          0.\n",
      "    0.         -0.12574395 -0.44953505  0.459073  ]\n",
      "  [ 0.          0.          1.          0.          0.          0.          0.\n",
      "    0.          0.          0.          0.          0.          0.          1.\n",
      "    0.          0.          0.          0.          0.          0.          0.\n",
      "    0.          0.          1.          0.          0.          0.          0.\n",
      "    0.         -0.06717869 -0.44953505  0.459073  ]]]\n",
      "[[[1]\n",
      "  [1]]]\n"
     ]
    }
   ],
   "source": [
    "print(train_features.shape)\n",
    "batches = get_batches(train_features, train_targets,1,2)\n",
    "x, y = next(batches)\n",
    "print(x.shape)\n",
    "print(y.shape)\n",
    "print(x)\n",
    "print(y)"
   ]
  },
  {
   "cell_type": "markdown",
   "metadata": {
    "deletable": true,
    "editable": true
   },
   "source": [
    "# Building the network"
   ]
  },
  {
   "cell_type": "markdown",
   "metadata": {
    "deletable": true,
    "editable": true
   },
   "source": [
    "## Get inputs"
   ]
  },
  {
   "cell_type": "code",
   "execution_count": 16,
   "metadata": {
    "collapsed": true,
    "deletable": true,
    "editable": true
   },
   "outputs": [],
   "source": [
    "import tensorflow as tf"
   ]
  },
  {
   "cell_type": "code",
   "execution_count": 17,
   "metadata": {
    "collapsed": true,
    "deletable": true,
    "editable": true
   },
   "outputs": [],
   "source": [
    "def get_inputs(batch_size, num_features, num_targets):\n",
    "\n",
    "    # Declare placeholders we'll feed into the graph\n",
    "    input_data = tf.placeholder(tf.float32, [None,None, num_features], name='inputs')\n",
    "    targets = tf.placeholder(tf.float32, [None,None, num_targets], name='targets')\n",
    "    #label_one_hot = tf.one_hot(targets, depth=2, axis=-1, dtype=tf.int32)\n",
    "\n",
    "    # Keep probability placeholder for drop out layers\n",
    "    keep_prob = tf.placeholder(tf.float32, name='keep_prob')\n",
    "    learningRate = tf.placeholder(tf.float32, name='learning_rate')\n",
    "    \n",
    "     # Add placeholder to indicate whether or not we're training the model\n",
    "    is_training = tf.placeholder(tf.bool, name='is_training')\n",
    "    \n",
    "    return input_data,targets,keep_prob,learningRate, is_training"
   ]
  },
  {
   "cell_type": "markdown",
   "metadata": {
    "deletable": true,
    "editable": true
   },
   "source": [
    "### Build LSTM cells"
   ]
  },
  {
   "cell_type": "code",
   "execution_count": 18,
   "metadata": {
    "collapsed": true,
    "deletable": true,
    "editable": true
   },
   "outputs": [],
   "source": [
    "def lstm_cell(lstm_size, keep_prob):\n",
    "    cell = tf.contrib.rnn.LSTMCell(lstm_size, initializer=tf.random_uniform_initializer(-0.1, 0.1, seed=2))\n",
    "    return tf.contrib.rnn.DropoutWrapper(cell, output_keep_prob=keep_prob)\n",
    "\n",
    "def get_init_cell(batch_size, lstm_size, keep_prob, num_layers):\n",
    "    cell = tf.contrib.rnn.MultiRNNCell([lstm_cell(lstm_size,keep_prob) for _ in range(num_layers)])\n",
    "    initial_state = tf.identity(cell.zero_state(batch_size, tf.float32), name='initial_state')\n",
    "    return cell, initial_state"
   ]
  },
  {
   "cell_type": "markdown",
   "metadata": {
    "deletable": true,
    "editable": true
   },
   "source": [
    "Build RNN with batch normalization"
   ]
  },
  {
   "cell_type": "code",
   "execution_count": 19,
   "metadata": {
    "collapsed": true,
    "deletable": true,
    "editable": true
   },
   "outputs": [],
   "source": [
    "def build_rnn(cell, input_data, lstm_size, is_training):\n",
    "    \n",
    "    outputs, final_state = tf.nn.dynamic_rnn(cell, input_data,  dtype=tf.float32)\n",
    "    outputs = tf.layers.batch_normalization(outputs, training=is_training)\n",
    "    final_state = tf.identity(final_state, name='final_state')\n",
    "    return outputs, final_state"
   ]
  },
  {
   "cell_type": "markdown",
   "metadata": {
    "deletable": true,
    "editable": true
   },
   "source": [
    "Build Fully connected layer with batch normalization"
   ]
  },
  {
   "cell_type": "code",
   "execution_count": 20,
   "metadata": {
    "collapsed": true,
    "deletable": true,
    "editable": true
   },
   "outputs": [],
   "source": [
    "def fully_connected(prev_layer, num_units, is_training):\n",
    "    \"\"\"\n",
    "    Create a fully connectd layer with the given layer as input and the given number of neurons.\n",
    "    \n",
    "    :param prev_layer: Tensor\n",
    "        The Tensor that acts as input into this layer\n",
    "    :param num_units: int\n",
    "        The size of the layer. That is, the number of units, nodes, or neurons.\n",
    "    :param is_training: bool or Tensor\n",
    "        Indicates whether or not the network is currently training, which tells the batch normalization\n",
    "        layer whether or not it should update or use its population statistics.\n",
    "    :returns Tensor\n",
    "        A new fully connected layer\n",
    "    \"\"\"\n",
    "    layer = tf.layers.dense(prev_layer, num_units, use_bias=True, activation=None)\n",
    "    layer = tf.layers.batch_normalization(layer, training=is_training)\n",
    "    layer = tf.nn.relu(layer)\n",
    "    return layer"
   ]
  },
  {
   "cell_type": "markdown",
   "metadata": {
    "deletable": true,
    "editable": true
   },
   "source": [
    "#### Build NN"
   ]
  },
  {
   "cell_type": "markdown",
   "metadata": {
    "deletable": true,
    "editable": true
   },
   "source": [
    "We are going to build a RNN with 3 fuilly connected layers as hidden layers with RELU activation function and Batch normalization"
   ]
  },
  {
   "cell_type": "code",
   "execution_count": 21,
   "metadata": {
    "collapsed": true,
    "deletable": true,
    "editable": true
   },
   "outputs": [],
   "source": [
    "def build_nn(cell, lstm_size, input_data, is_training):\n",
    "    \n",
    "    #Build RNN with LSTM cells\n",
    "    outputs, final_state = build_rnn(cell, input_data, lstm_size, is_training)\n",
    "    \n",
    "    hidden_1 = fully_connected(outputs,256, is_training)\n",
    "    \n",
    "    hidden_2 = fully_connected(hidden_1,128, is_training )\n",
    "    \n",
    "    hidden_3 = fully_connected(hidden_1,64, is_training )\n",
    "\n",
    "    #weights and biases\n",
    "    weights = tf.truncated_normal_initializer(mean=0.0, stddev=0.1)\n",
    "    biases = tf.zeros_initializer()\n",
    "    #Output layer\n",
    "    predictions = tf.contrib.layers.fully_connected(hidden_3, \n",
    "                                               1, \n",
    "                                               activation_fn = tf.sigmoid,\n",
    "                                               weights_initializer=weights,\n",
    "                                               biases_initializer=biases)\n",
    "    \n",
    "    predictions = tf.identity(predictions, name='predictions')\n",
    "    \n",
    "    return predictions, final_state"
   ]
  },
  {
   "cell_type": "markdown",
   "metadata": {
    "deletable": true,
    "editable": true
   },
   "source": [
    "Hyper parameters"
   ]
  },
  {
   "cell_type": "code",
   "execution_count": 287,
   "metadata": {
    "collapsed": true,
    "deletable": true,
    "editable": true
   },
   "outputs": [],
   "source": [
    "num_features = 32\n",
    "num_targets = 1\n",
    "\n",
    "epochs = #choose number of epochs\n",
    "batch_size = #choose number of batch size\n",
    "# one step for each step that we want the sequence to remember\n",
    "num_steps = #select num steps\n",
    "lstm_size = #Size of lstm\n",
    "num_layers = #layers of lstm\n",
    "learning_rate_val = #learning rate\n",
    "keep_prob_val = #keep robability for dropout\n",
    "#save_dir = 'save/save_point'\n",
    "save_dir = 'save/' #select a name for the save file"
   ]
  },
  {
   "cell_type": "markdown",
   "metadata": {
    "deletable": true,
    "editable": true
   },
   "source": [
    "## Build the graph"
   ]
  },
  {
   "cell_type": "code",
   "execution_count": 288,
   "metadata": {
    "collapsed": false,
    "deletable": true,
    "editable": true
   },
   "outputs": [],
   "source": [
    "train_graph = tf.Graph()\n",
    "\n",
    "with train_graph.as_default():\n",
    "    \n",
    "    inputs,targets,keep_prob,learning_rate, is_training = get_inputs(batch_size,num_features,num_targets)\n",
    "    \n",
    "    cell, initial_state = get_init_cell(batch_size,lstm_size,keep_prob,num_layers)\n",
    "    \n",
    "    predictions, final_state = build_nn(cell, lstm_size, inputs, is_training)\n",
    "    \n",
    "    #Loss function\n",
    "    cost = tf.losses.mean_squared_error(targets, predictions)\n",
    "\n",
    "    #Optimizer\n",
    "    optimizer = tf.train.AdamOptimizer(learning_rate).minimize(cost)\n",
    "    \n",
    "    correct_pred = tf.equal(tf.cast(tf.round(predictions), tf.int32), tf.cast(tf.round(targets), tf.int32))\n",
    "\n",
    "    \n",
    "    accuracy = tf.reduce_mean(tf.cast(correct_pred, tf.float32))\n",
    "    \n",
    "    accuracy = tf.identity(accuracy, name='accurracy')"
   ]
  },
  {
   "cell_type": "markdown",
   "metadata": {
    "deletable": true,
    "editable": true
   },
   "source": [
    "### Training"
   ]
  },
  {
   "cell_type": "code",
   "execution_count": 289,
   "metadata": {
    "collapsed": false,
    "deletable": true,
    "editable": true
   },
   "outputs": [
    {
     "name": "stdout",
     "output_type": "stream",
     "text": [
      "Progress: 90.0% ... Iterations: 290 ... Training loss: 0.0038 ... Validation accurracy: 0.9995"
     ]
    }
   ],
   "source": [
    "val_accuracy=[]\n",
    "training_loss=[]\n",
    "\n",
    "with tf.Session(graph=train_graph) as sess:\n",
    "    sess.run(tf.global_variables_initializer())\n",
    "    \n",
    "    iteration = 1\n",
    "    for e in range(epochs):\n",
    "        \n",
    "        state = sess.run(initial_state)\n",
    "        batches = get_batches(train_features, train_targets, batch_size,num_steps)\n",
    "        for ii, (x, y) in enumerate(batches, 1):\n",
    "\n",
    "            feed = {inputs: x,\n",
    "                    targets: y,\n",
    "                    keep_prob: keep_prob_val,\n",
    "                    initial_state: state,\n",
    "                    learning_rate: learning_rate_val,\n",
    "                    is_training: True}\n",
    "            \n",
    "            loss, state, _ = sess.run([cost, final_state, optimizer], feed_dict=feed)\n",
    "  \n",
    "            if iteration%5==0:\n",
    "                training_loss.append(loss)\n",
    "                val_acc = []\n",
    "                val_state = sess.run(cell.zero_state(batch_size, tf.float32))\n",
    "                for x, y in get_batches(val_features, val_targets, batch_size,num_steps):\n",
    "                    feed = {inputs: x,\n",
    "                            targets: y,\n",
    "                            keep_prob: 1,\n",
    "                            initial_state: val_state,\n",
    "                            learning_rate: learning_rate_val,\n",
    "                            is_training: False}\n",
    "                    batch_acc, val_state = sess.run([accuracy, final_state], feed_dict=feed)\n",
    "                    val_acc.append(batch_acc)\n",
    "                val_accuracy.append( np.mean(val_acc) )\n",
    "                \n",
    "\n",
    "                sys.stdout.write(\"\\rProgress: {:2.1f}\".format(100 * e/float(epochs)) \\\n",
    "                        + \"% ... Iterations: \" + str(iteration) \\\n",
    "                        + \" ... Training loss: \" + str(loss)[:6] \\\n",
    "                        + \" ... Validation accurracy: \" + str(np.mean(val_acc) )[:6])\n",
    "                sys.stdout.flush()\n",
    "    \n",
    "            iteration +=1\n",
    "    # Save Model\n",
    "    saver = tf.train.Saver()\n",
    "    saver.save(sess, save_dir)"
   ]
  },
  {
   "cell_type": "code",
   "execution_count": 290,
   "metadata": {
    "collapsed": false,
    "deletable": true,
    "editable": true
   },
   "outputs": [
    {
     "data": {
      "image/png": "[encoded data removed]",
      "text/plain": [
       "<matplotlib.figure.Figure at 0x7f83115e8b00>"
      ]
     },
     "metadata": {
      "image/png": {
       "height": 250,
       "width": 380
      }
     },
     "output_type": "display_data"
    }
   ],
   "source": [
    "plt.plot(val_accuracy, label='validation Accuracy')\n",
    "plt.legend()\n",
    "_ = plt.ylim()"
   ]
  },
  {
   "cell_type": "code",
   "execution_count": 291,
   "metadata": {
    "collapsed": false,
    "deletable": true,
    "editable": true
   },
   "outputs": [
    {
     "data": {
      "image/png": "[encoded data removed]",
      "text/plain": [
       "<matplotlib.figure.Figure at 0x7f8311e42550>"
      ]
     },
     "metadata": {
      "image/png": {
       "height": 250,
       "width": 386
      }
     },
     "output_type": "display_data"
    }
   ],
   "source": [
    "plt.plot(training_loss, label='Loss')\n",
    "plt.legend()\n",
    "_ = plt.ylim()"
   ]
  },
  {
   "cell_type": "markdown",
   "metadata": {
    "deletable": true,
    "editable": true
   },
   "source": [
    "## Check out your predictions\n",
    "\n",
    "Here, use the test data to view how well your network is modeling the data. If something is completely wrong here, make sure each step in your network is implemented correctly."
   ]
  },
  {
   "cell_type": "code",
   "execution_count": 292,
   "metadata": {
    "collapsed": true,
    "deletable": true,
    "editable": true
   },
   "outputs": [],
   "source": [
    "def get_tensors(loaded_graph):\n",
    "    \"\"\"\n",
    "    Get input, initial state, final state, keep_prob, accurracy and predictions tensor from <loaded_graph>\n",
    "    :param loaded_graph: TensorFlow graph loaded from file\n",
    "    :return: Tuple (InputTensor, InitialStateTensor, FinalStateTensor, KeepProbTensor, AccurracyTensor, PredictionsTensor)\n",
    "    \"\"\"\n",
    "    # TODO: Implement Function\n",
    "    inputs = loaded_graph.get_tensor_by_name(\"inputs:0\")\n",
    "    targets = loaded_graph.get_tensor_by_name(\"targets:0\")\n",
    "    initial_state = loaded_graph.get_tensor_by_name(\"initial_state:0\")\n",
    "    final_state = loaded_graph.get_tensor_by_name(\"final_state:0\")\n",
    "    keep_prob = loaded_graph.get_tensor_by_name(\"keep_prob:0\")\n",
    "    accurracy = loaded_graph.get_tensor_by_name(\"accurracy:0\")\n",
    "    predictions = loaded_graph.get_tensor_by_name(\"predictions:0\")\n",
    "    learning_rate = loaded_graph.get_tensor_by_name(\"learning_rate:0\")\n",
    "    is_training = loaded_graph.get_tensor_by_name(\"is_training:0\")\n",
    "    return inputs, initial_state, final_state, targets, keep_prob, accurracy, predictions, learning_rate, is_training"
   ]
  },
  {
   "cell_type": "code",
   "execution_count": 293,
   "metadata": {
    "collapsed": false,
    "deletable": true,
    "editable": true
   },
   "outputs": [],
   "source": [
    "def scale_data(input_data):\n",
    "\t\tm_time_delta, s_time_delta = scaled_features['time_delta']\n",
    "\t\tm_tickets, s_tickets = scaled_features['Tickets']\n",
    "\t\tm_csat, s_csat = scaled_features['csat']\n",
    "\n",
    "\t\tinput_data[-3] = np.float32((input_data[-3] - m_time_delta) / s_time_delta)\n",
    "\t\tinput_data[-2] = np.float32((input_data[-2] - m_tickets) / s_tickets)\n",
    "\t\tinput_data[-1] = np.float32((input_data[-1] - m_csat) / s_csat)\n",
    "\n",
    "\t\tprint(\"Scaling data\")\n",
    "\n",
    "\t\treturn input_data"
   ]
  },
  {
   "cell_type": "markdown",
   "metadata": {
    "deletable": true,
    "editable": true
   },
   "source": [
    "### Create a graph to compare the data and predictions"
   ]
  },
  {
   "cell_type": "code",
   "execution_count": 299,
   "metadata": {
    "collapsed": false,
    "deletable": true,
    "editable": true
   },
   "outputs": [
    {
     "name": "stdout",
     "output_type": "stream",
     "text": [
      "INFO:tensorflow:Restoring parameters from save/chkpnt_0\n",
      "Test accuracy: 1.000\n"
     ]
    }
   ],
   "source": [
    "test_acc = []\n",
    "loaded_graph = tf.Graph()\n",
    "with tf.Session(graph=loaded_graph) as sess:\n",
    "    # Load saved model\n",
    "    loader = tf.train.import_meta_graph(save_dir + '.meta')\n",
    "    loader.restore(sess, save_dir)\n",
    "    \n",
    "    # Get Tensors from loaded model\n",
    "    input_data, initial_state, final_state, targets, keep_prob, accurracy, predictions, learning_rate, is_training = get_tensors(loaded_graph)\n",
    "    val_acc = []\n",
    "    val_state = sess.run(initial_state)\n",
    "    for x, y in get_batches(test_features, test_targets, batch_size,25):\n",
    "        feed = {input_data: x,\n",
    "                targets: y,\n",
    "                keep_prob: 1,\n",
    "                initial_state: val_state,\n",
    "                learning_rate: learning_rate_val,\n",
    "                is_training: False}\n",
    "        batch_acc, val_state = sess.run([accurracy, final_state], feed_dict=feed)\n",
    "        val_acc.append(batch_acc)\n",
    "        \n",
    "\n",
    "    print(\"Test accuracy: {:.3f}\".format(np.mean(val_acc)))\n",
    "    \n",
    "    batch = get_batches(test_features, test_targets, 1, 50)\n",
    "    x,y = next(batch)\n",
    "\n",
    "    feed = {input_data: x,\n",
    "                keep_prob: 1,\n",
    "                initial_state: val_state,\n",
    "                learning_rate: learning_rate_val,\n",
    "                is_training: False\n",
    "           }\n",
    "    \n",
    "    pred = sess.run([predictions], feed_dict=feed)"
   ]
  },
  {
   "cell_type": "code",
   "execution_count": 300,
   "metadata": {
    "collapsed": false,
    "deletable": true,
    "editable": true
   },
   "outputs": [
    {
     "name": "stdout",
     "output_type": "stream",
     "text": [
      "[array([[[ 1.],\n",
      "        [ 1.],\n",
      "        [ 0.],\n",
      "        [ 1.],\n",
      "        [ 0.],\n",
      "        [ 1.],\n",
      "        [ 1.],\n",
      "        [ 1.],\n",
      "        [ 1.],\n",
      "        [ 1.],\n",
      "        [ 0.],\n",
      "        [ 0.],\n",
      "        [ 1.],\n",
      "        [ 1.],\n",
      "        [ 1.],\n",
      "        [ 0.],\n",
      "        [ 1.],\n",
      "        [ 1.],\n",
      "        [ 1.],\n",
      "        [ 1.],\n",
      "        [ 1.],\n",
      "        [ 1.],\n",
      "        [ 0.],\n",
      "        [ 1.],\n",
      "        [ 1.],\n",
      "        [ 1.],\n",
      "        [ 1.],\n",
      "        [ 0.],\n",
      "        [ 1.],\n",
      "        [ 1.],\n",
      "        [ 1.],\n",
      "        [ 0.],\n",
      "        [ 0.],\n",
      "        [ 1.],\n",
      "        [ 1.],\n",
      "        [ 1.],\n",
      "        [ 1.],\n",
      "        [ 1.],\n",
      "        [ 1.],\n",
      "        [ 0.],\n",
      "        [ 1.],\n",
      "        [ 1.],\n",
      "        [ 1.],\n",
      "        [ 0.],\n",
      "        [ 1.],\n",
      "        [ 1.],\n",
      "        [ 1.],\n",
      "        [ 0.],\n",
      "        [ 1.],\n",
      "        [ 1.]]], dtype=float32)]\n"
     ]
    }
   ],
   "source": [
    "print(pred)"
   ]
  },
  {
   "cell_type": "code",
   "execution_count": 301,
   "metadata": {
    "collapsed": false,
    "deletable": true,
    "editable": true
   },
   "outputs": [
    {
     "name": "stdout",
     "output_type": "stream",
     "text": [
      "[[[1]\n",
      "  [1]\n",
      "  [0]\n",
      "  [1]\n",
      "  [0]\n",
      "  [1]\n",
      "  [1]\n",
      "  [1]\n",
      "  [1]\n",
      "  [1]\n",
      "  [0]\n",
      "  [0]\n",
      "  [1]\n",
      "  [1]\n",
      "  [1]\n",
      "  [0]\n",
      "  [1]\n",
      "  [1]\n",
      "  [1]\n",
      "  [1]\n",
      "  [1]\n",
      "  [1]\n",
      "  [0]\n",
      "  [1]\n",
      "  [1]\n",
      "  [1]\n",
      "  [1]\n",
      "  [0]\n",
      "  [1]\n",
      "  [1]\n",
      "  [1]\n",
      "  [0]\n",
      "  [0]\n",
      "  [1]\n",
      "  [1]\n",
      "  [1]\n",
      "  [1]\n",
      "  [1]\n",
      "  [1]\n",
      "  [0]\n",
      "  [1]\n",
      "  [1]\n",
      "  [1]\n",
      "  [0]\n",
      "  [1]\n",
      "  [1]\n",
      "  [1]\n",
      "  [0]\n",
      "  [1]\n",
      "  [1]]]\n"
     ]
    }
   ],
   "source": [
    "print(y)"
   ]
  },
  {
   "cell_type": "code",
   "execution_count": null,
   "metadata": {
    "collapsed": true
   },
   "outputs": [],
   "source": []
  }
 ],
 "metadata": {
  "kernelspec": {
   "display_name": "Python 3",
   "language": "python",
   "name": "python3"
  },
  "language_info": {
   "codemirror_mode": {
    "name": "ipython",
    "version": 3
   },
   "file_extension": ".py",
   "mimetype": "text/x-python",
   "name": "python",
   "nbconvert_exporter": "python",
   "pygments_lexer": "ipython3",
   "version": "3.5.3"
  }
 },
 "nbformat": 4,
 "nbformat_minor": 2
}
